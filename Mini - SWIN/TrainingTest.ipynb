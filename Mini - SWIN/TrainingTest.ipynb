{
 "cells": [
  {
   "cell_type": "code",
   "execution_count": 13,
   "id": "1e3ae510-d736-4d67-9b9b-2d82d40256d0",
   "metadata": {},
   "outputs": [],
   "source": [
    "import keras\n",
    "import tensorflow as tf\n",
    "import numpy as np\n",
    "import pandas as pd\n",
    "from training_utils import *\n",
    "import json\n",
    "from google.protobuf.json_format import MessageToJson"
   ]
  },
  {
   "cell_type": "code",
   "execution_count": 10,
   "id": "56a32bbf-ba40-408e-8e24-36e771e0f394",
   "metadata": {},
   "outputs": [
    {
     "name": "stderr",
     "output_type": "stream",
     "text": [
      "IOPub data rate exceeded.\n",
      "The Jupyter server will temporarily stop sending output\n",
      "to the client in order to avoid crashing it.\n",
      "To change this limit, set the config variable\n",
      "`--ServerApp.iopub_data_rate_limit`.\n",
      "\n",
      "Current values:\n",
      "ServerApp.iopub_data_rate_limit=1000000.0 (bytes/sec)\n",
      "ServerApp.rate_limit_window=3.0 (secs)\n",
      "\n"
     ]
    }
   ],
   "source": [
    "tfrecord_files = [\n",
    "    '/Users/jeppeaasteddue/BAData/DPm.0001.0001.2012.11.13.12.58.22.983217.21563659_PROC_FL3.tfrecord',\n",
    "    '/Users/jeppeaasteddue/BAData/DPm.0001.0002.2013.09.23.14.31.58.718635.63500902_PROC_FL3.tfrecord',\n",
    "    '/Users/jeppeaasteddue/BAData/DPm.0001.0004.2013.09.23.14.31.58.718635.63500990_PROC_FL3.tfrecord',\n",
    "    '/Users/jeppeaasteddue/BAData/DPm.0001.0005.2012.11.13.12.58.22.983217.21563867_PROC_FL3.tfrecord'\n",
    "]\n",
    "\n",
    "raw_dataset = tf.data.TFRecordDataset(tfrecord_files)\n",
    "\n",
    "for raw_record in raw_dataset.take(1):\n",
    "    example = tf.train.Example()\n",
    "    example.ParseFromString(raw_record.numpy())\n",
    "    print(example)"
   ]
  },
  {
   "cell_type": "code",
   "execution_count": 14,
   "id": "45ee42a8-77b2-4f66-b96d-42d9647a52e5",
   "metadata": {},
   "outputs": [
    {
     "name": "stdout",
     "output_type": "stream",
     "text": [
      "dict_keys(['y', 'X'])\n"
     ]
    }
   ],
   "source": [
    "dataset = tf.data.TFRecordDataset(\"/Users/jeppeaasteddue/BAData/DPm.0001.0001.2012.11.13.12.58.22.983217.21563659_PROC_FL3.tfrecord\")\n",
    "for d in dataset:\n",
    "    ex = tf.train.Example()\n",
    "    ex.ParseFromString(d.numpy())\n",
    "    m = json.loads(MessageToJson(ex))\n",
    "    print(m['features']['feature'].keys())"
   ]
  },
  {
   "cell_type": "code",
   "execution_count": 6,
   "id": "89276c7d-1a57-4dc1-8009-4d735135658d",
   "metadata": {},
   "outputs": [
    {
     "name": "stderr",
     "output_type": "stream",
     "text": [
      "IOPub data rate exceeded.\n",
      "The Jupyter server will temporarily stop sending output\n",
      "to the client in order to avoid crashing it.\n",
      "To change this limit, set the config variable\n",
      "`--ServerApp.iopub_data_rate_limit`.\n",
      "\n",
      "Current values:\n",
      "ServerApp.iopub_data_rate_limit=1000000.0 (bytes/sec)\n",
      "ServerApp.rate_limit_window=3.0 (secs)\n",
      "\n"
     ]
    }
   ],
   "source": [
    "result.context.feature[\"y\"]"
   ]
  },
  {
   "cell_type": "code",
   "execution_count": null,
   "id": "7c43149a-921e-4f38-a2b4-aac8fa76c646",
   "metadata": {},
   "outputs": [],
   "source": [
    "if len(sys.argv) < 2:\n",
    "    exit('Missing fold to use argument')\n",
    "\n",
    "# Training params\n",
    "image_shape = (1194, 938)\n",
    "batch_size = 10\n",
    "num_epochs = 60\n",
    "shuffle_on_init = True\n",
    "augment = True\n",
    "augment_level = 3\n",
    "learning_rate = 0.00001\n",
    "fold_to_use = int(sys.argv[1])\n",
    "\n",
    "print('Training fold %i' % fold_to_use)\n",
    "\n",
    "# Dataset inputs\n",
    "dataset_path = 'NoisyLabels/DK_dataset_1213'\n",
    "if not exists('ModelsAndResults/test'):\n",
    "    makedirs('ModelsAndResults/test')\n",
    "model_dir = 'ModelsAndResults/test/test_model_fold_%i' % fold_to_use\n",
    "image_training_list = join(dataset_path, 'training_fold_%i.txt' % fold_to_use)\n",
    "image_validation_list = join(dataset_path, 'large_validation_fold_%i.txt' % fold_to_use)\n",
    "imgs = 'NoisyLabels/available_image_data_DK1213_fixed.csv'\n",
    "lbls = 'NoisyLabels/DK_labels_1213_to_23_fixed.csv'\n",
    "\n",
    "print('Using dataset: %s' % dataset_path)\n",
    "\n",
    "# TF record datasets\n",
    "training_dataset = TFRecordDataset(\n",
    "    input=image_training_list, orig_shape=image_shape, output_shape=image_shape,\n",
    "    shuffle=shuffle_on_init, batch_size=batch_size, augment=augment,\n",
    "    augment_level=augment_level, random_seed=fold_to_use, imgs=imgs,\n",
    "    lbls=lbls\n",
    ")\n",
    "\n",
    "validation_dataset = TFRecordDataset(\n",
    "    input=image_validation_list, orig_shape=image_shape, output_shape=image_shape,\n",
    "    shuffle=False, batch_size=batch_size, augment=False,\n",
    "    augment_level=0, random_seed=fold_to_use, imgs=imgs,\n",
    "    lbls=lbls\n",
    ")\n",
    "\n",
    "# Setting up model and compile\n",
    "model, initial_epoch = init_model(model_dir, image_shape, learning_rate)\n",
    "\n",
    "# Setting up loggers\n",
    "callbacks = init_loggers(model_dir, validation_dataset)\n",
    "\n",
    "# Train the model\n",
    "history = model.fit(\n",
    "    x=training_dataset.get_input_fn().repeat(),\n",
    "    steps_per_epoch=len(training_dataset),\n",
    "    epochs=num_epochs,\n",
    "    callbacks=callbacks,\n",
    "    initial_epoch=initial_epoch,\n",
    "    verbose=1\n",
    ")\n",
    "\n",
    "# Store training history\n",
    "with open(join(model_dir, 'training_history_fold_%i.csv' % fold_to_use), 'w') as f:\n",
    "    pd.DataFrame(history.history).to_csv(f, index=False)\n",
    "\n",
    "print('Training done!')\n"
   ]
  }
 ],
 "metadata": {
  "kernelspec": {
   "display_name": "Python 3 (ipykernel)",
   "language": "python",
   "name": "python3"
  },
  "language_info": {
   "codemirror_mode": {
    "name": "ipython",
    "version": 3
   },
   "file_extension": ".py",
   "mimetype": "text/x-python",
   "name": "python",
   "nbconvert_exporter": "python",
   "pygments_lexer": "ipython3",
   "version": "3.8.18"
  }
 },
 "nbformat": 4,
 "nbformat_minor": 5
}
