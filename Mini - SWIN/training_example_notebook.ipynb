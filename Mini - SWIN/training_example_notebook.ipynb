{
 "cells": [
  {
   "cell_type": "code",
   "execution_count": 1,
   "metadata": {},
   "outputs": [
    {
     "ename": "ModuleNotFoundError",
     "evalue": "No module named 'tensorflow_addons'",
     "output_type": "error",
     "traceback": [
      "\u001b[1;31m---------------------------------------------------------------------------\u001b[0m",
      "\u001b[1;31mModuleNotFoundError\u001b[0m                       Traceback (most recent call last)",
      "Cell \u001b[1;32mIn[1], line 1\u001b[0m\n\u001b[1;32m----> 1\u001b[0m \u001b[38;5;28;01mfrom\u001b[39;00m \u001b[38;5;21;01mtraining_utils\u001b[39;00m \u001b[38;5;28;01mimport\u001b[39;00m \u001b[38;5;241m*\u001b[39m\n\u001b[0;32m      2\u001b[0m \u001b[38;5;28;01mfrom\u001b[39;00m \u001b[38;5;21;01mos\u001b[39;00m\u001b[38;5;21;01m.\u001b[39;00m\u001b[38;5;21;01mpath\u001b[39;00m \u001b[38;5;28;01mimport\u001b[39;00m join\n\u001b[0;32m      3\u001b[0m \u001b[38;5;28;01mimport\u001b[39;00m \u001b[38;5;21;01msys\u001b[39;00m\n",
      "File \u001b[1;32mc:\\Users\\Peter\\Downloads\\Mini\\training_utils.py:2\u001b[0m\n\u001b[0;32m      1\u001b[0m \u001b[38;5;28;01mimport\u001b[39;00m \u001b[38;5;21;01mtensorflow\u001b[39;00m \u001b[38;5;28;01mas\u001b[39;00m \u001b[38;5;21;01mtf\u001b[39;00m\n\u001b[1;32m----> 2\u001b[0m \u001b[38;5;28;01mimport\u001b[39;00m \u001b[38;5;21;01mtensorflow_addons\u001b[39;00m \u001b[38;5;28;01mas\u001b[39;00m \u001b[38;5;21;01mtfa\u001b[39;00m\n\u001b[0;32m      3\u001b[0m \u001b[38;5;28;01mfrom\u001b[39;00m \u001b[38;5;21;01mos\u001b[39;00m\u001b[38;5;21;01m.\u001b[39;00m\u001b[38;5;21;01mpath\u001b[39;00m \u001b[38;5;28;01mimport\u001b[39;00m expanduser, join, splitext, basename, exists\n\u001b[0;32m      4\u001b[0m \u001b[38;5;28;01mfrom\u001b[39;00m \u001b[38;5;21;01mos\u001b[39;00m \u001b[38;5;28;01mimport\u001b[39;00m makedirs\n",
      "\u001b[1;31mModuleNotFoundError\u001b[0m: No module named 'tensorflow_addons'"
     ]
    }
   ],
   "source": [
    "from training_utils import *\n",
    "from os.path import join\n",
    "import sys\n",
    "import pandas as pd\n",
    "\n",
    "if len(sys.argv) < 2:\n",
    "    exit('Missing fold to use argument')\n",
    "\n",
    "# Training params\n",
    "image_shape = (1194, 938)\n",
    "batch_size = 10\n",
    "num_epochs = 60\n",
    "shuffle_on_init = True\n",
    "augment = True\n",
    "augment_level = 3\n",
    "learning_rate = 0.00001\n",
    "fold_to_use = int(sys.argv[1])\n",
    "\n",
    "print('Training fold %i' % fold_to_use)\n",
    "\n",
    "# Dataset inputs\n",
    "dataset_path = '/DK_dataset_1213'\n",
    "if not exists('ModelsAndResults/test'):\n",
    "    makedirs('ModelsAndResults/test')\n",
    "model_dir = 'ModelsAndResults/test/test_model_fold_%i' % fold_to_use\n",
    "image_training_list = join(dataset_path, 'training_fold_%i.txt' % fold_to_use)\n",
    "image_validation_list = join(dataset_path, 'validation_fold_%i.txt' % fold_to_use)\n",
    "imgs = 'NoisyLabels/available_image_data_DK1213_fixed.csv'\n",
    "lbls = 'NoisyLabels/DK_labels_1213_to_23_fixed.csv'\n",
    "\n",
    "print('Using dataset: %s' % dataset_path)\n",
    "\n",
    "# TF record datasets\n",
    "training_dataset = TFRecordDataset(\n",
    "    input=image_training_list, orig_shape=image_shape, output_shape=image_shape,\n",
    "    shuffle=shuffle_on_init, batch_size=batch_size, augment=augment,\n",
    "    augment_level=augment_level, random_seed=fold_to_use, imgs=imgs,\n",
    "    lbls=lbls\n",
    ")\n",
    "\n",
    "validation_dataset = TFRecordDataset(\n",
    "    input=image_validation_list, orig_shape=image_shape, output_shape=image_shape,\n",
    "    shuffle=False, batch_size=batch_size, augment=False,\n",
    "    augment_level=0, random_seed=fold_to_use, imgs=imgs,\n",
    "    lbls=lbls\n",
    ")\n",
    "\n",
    "# Setting up model and compile\n",
    "model, initial_epoch = init_model(model_dir, image_shape, learning_rate)\n",
    "\n",
    "# Setting up loggers\n",
    "callbacks = init_loggers(model_dir, validation_dataset)\n",
    "\n",
    "# Train the model\n",
    "history = model.fit(\n",
    "    x=training_dataset.get_input_fn().repeat(),\n",
    "    steps_per_epoch=len(training_dataset),\n",
    "    epochs=num_epochs,\n",
    "    callbacks=callbacks,\n",
    "    initial_epoch=initial_epoch,\n",
    "    verbose=1\n",
    ")\n",
    "\n",
    "# Store training history\n",
    "with open(join(model_dir, 'training_history_fold_%i.csv' % fold_to_use), 'w') as f:\n",
    "    pd.DataFrame(history.history).to_csv(f, index=False)\n",
    "\n",
    "print('Training done!')\n"
   ]
  }
 ],
 "metadata": {
  "kernelspec": {
   "display_name": "Data_Science",
   "language": "python",
   "name": "python3"
  },
  "language_info": {
   "codemirror_mode": {
    "name": "ipython",
    "version": 3
   },
   "file_extension": ".py",
   "mimetype": "text/x-python",
   "name": "python",
   "nbconvert_exporter": "python",
   "pygments_lexer": "ipython3",
   "version": "3.11.0"
  }
 },
 "nbformat": 4,
 "nbformat_minor": 2
}
